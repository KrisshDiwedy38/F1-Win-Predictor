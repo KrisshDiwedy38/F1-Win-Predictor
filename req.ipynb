{
 "cells": [
  {
   "cell_type": "code",
   "execution_count": 1,
   "id": "c1a5f568-60bb-47a1-83f6-8e6159b6caf3",
   "metadata": {},
   "outputs": [
    {
     "name": "stdout",
     "output_type": "stream",
     "text": [
      "Collecting fastf1\n",
      "  Using cached fastf1-3.5.3-py3-none-any.whl.metadata (4.6 kB)\n",
      "Requirement already satisfied: matplotlib<4.0.0,>=3.5.1 in c:\\users\\hp\\anaconda3\\lib\\site-packages (from fastf1) (3.8.0)\n",
      "Requirement already satisfied: numpy<3.0.0,>=1.23.1 in c:\\users\\hp\\anaconda3\\lib\\site-packages (from fastf1) (1.26.4)\n",
      "Requirement already satisfied: pandas<3.0.0,>=1.4.1 in c:\\users\\hp\\anaconda3\\lib\\site-packages (from fastf1) (2.1.4)\n",
      "Requirement already satisfied: python-dateutil in c:\\users\\hp\\anaconda3\\lib\\site-packages (from fastf1) (2.8.2)\n",
      "Collecting rapidfuzz (from fastf1)\n",
      "  Downloading rapidfuzz-3.12.2-cp311-cp311-win_amd64.whl.metadata (12 kB)\n",
      "Collecting requests-cache>=1.0.0 (from fastf1)\n",
      "  Downloading requests_cache-1.2.1-py3-none-any.whl.metadata (9.9 kB)\n",
      "Requirement already satisfied: requests>=2.28.1 in c:\\users\\hp\\anaconda3\\lib\\site-packages (from fastf1) (2.31.0)\n",
      "Requirement already satisfied: scipy<2.0.0,>=1.8.1 in c:\\users\\hp\\anaconda3\\lib\\site-packages (from fastf1) (1.11.4)\n",
      "Collecting timple>=0.1.6 (from fastf1)\n",
      "  Downloading timple-0.1.8-py3-none-any.whl.metadata (2.0 kB)\n",
      "Collecting websockets<14,>=10.3 (from fastf1)\n",
      "  Downloading websockets-13.1-cp311-cp311-win_amd64.whl.metadata (7.0 kB)\n",
      "Requirement already satisfied: contourpy>=1.0.1 in c:\\users\\hp\\anaconda3\\lib\\site-packages (from matplotlib<4.0.0,>=3.5.1->fastf1) (1.2.0)\n",
      "Requirement already satisfied: cycler>=0.10 in c:\\users\\hp\\anaconda3\\lib\\site-packages (from matplotlib<4.0.0,>=3.5.1->fastf1) (0.11.0)\n",
      "Requirement already satisfied: fonttools>=4.22.0 in c:\\users\\hp\\anaconda3\\lib\\site-packages (from matplotlib<4.0.0,>=3.5.1->fastf1) (4.25.0)\n",
      "Requirement already satisfied: kiwisolver>=1.0.1 in c:\\users\\hp\\anaconda3\\lib\\site-packages (from matplotlib<4.0.0,>=3.5.1->fastf1) (1.4.4)\n",
      "Requirement already satisfied: packaging>=20.0 in c:\\users\\hp\\anaconda3\\lib\\site-packages (from matplotlib<4.0.0,>=3.5.1->fastf1) (23.1)\n",
      "Requirement already satisfied: pillow>=6.2.0 in c:\\users\\hp\\anaconda3\\lib\\site-packages (from matplotlib<4.0.0,>=3.5.1->fastf1) (10.2.0)\n",
      "Requirement already satisfied: pyparsing>=2.3.1 in c:\\users\\hp\\anaconda3\\lib\\site-packages (from matplotlib<4.0.0,>=3.5.1->fastf1) (3.0.9)\n",
      "Requirement already satisfied: pytz>=2020.1 in c:\\users\\hp\\anaconda3\\lib\\site-packages (from pandas<3.0.0,>=1.4.1->fastf1) (2023.3.post1)\n",
      "Requirement already satisfied: tzdata>=2022.1 in c:\\users\\hp\\anaconda3\\lib\\site-packages (from pandas<3.0.0,>=1.4.1->fastf1) (2023.3)\n",
      "Requirement already satisfied: six>=1.5 in c:\\users\\hp\\anaconda3\\lib\\site-packages (from python-dateutil->fastf1) (1.16.0)\n",
      "Requirement already satisfied: charset-normalizer<4,>=2 in c:\\users\\hp\\anaconda3\\lib\\site-packages (from requests>=2.28.1->fastf1) (2.0.4)\n",
      "Requirement already satisfied: idna<4,>=2.5 in c:\\users\\hp\\anaconda3\\lib\\site-packages (from requests>=2.28.1->fastf1) (3.4)\n",
      "Requirement already satisfied: urllib3<3,>=1.21.1 in c:\\users\\hp\\anaconda3\\lib\\site-packages (from requests>=2.28.1->fastf1) (2.0.7)\n",
      "Requirement already satisfied: certifi>=2017.4.17 in c:\\users\\hp\\anaconda3\\lib\\site-packages (from requests>=2.28.1->fastf1) (2024.2.2)\n",
      "Requirement already satisfied: attrs>=21.2 in c:\\users\\hp\\anaconda3\\lib\\site-packages (from requests-cache>=1.0.0->fastf1) (23.1.0)\n",
      "Collecting cattrs>=22.2 (from requests-cache>=1.0.0->fastf1)\n",
      "  Downloading cattrs-24.1.3-py3-none-any.whl.metadata (8.4 kB)\n",
      "Requirement already satisfied: platformdirs>=2.5 in c:\\users\\hp\\anaconda3\\lib\\site-packages (from requests-cache>=1.0.0->fastf1) (3.10.0)\n",
      "Collecting url-normalize>=1.4 (from requests-cache>=1.0.0->fastf1)\n",
      "  Downloading url_normalize-2.0.1-py3-none-any.whl.metadata (3.2 kB)\n",
      "Downloading fastf1-3.5.3-py3-none-any.whl (151 kB)\n",
      "   ---------------------------------------- 0.0/151.2 kB ? eta -:--:--\n",
      "   ----------------------------- ---------- 112.6/151.2 kB 3.3 MB/s eta 0:00:01\n",
      "   ---------------------------------------- 151.2/151.2 kB 1.8 MB/s eta 0:00:00\n",
      "Downloading requests_cache-1.2.1-py3-none-any.whl (61 kB)\n",
      "   ---------------------------------------- 0.0/61.4 kB ? eta -:--:--\n",
      "   ---------------------------------------- 61.4/61.4 kB 3.2 MB/s eta 0:00:00\n",
      "Downloading timple-0.1.8-py3-none-any.whl (17 kB)\n",
      "Downloading websockets-13.1-cp311-cp311-win_amd64.whl (159 kB)\n",
      "   ---------------------------------------- 0.0/159.1 kB ? eta -:--:--\n",
      "   ---------------------------------------- 159.1/159.1 kB 9.9 MB/s eta 0:00:00\n",
      "Downloading rapidfuzz-3.12.2-cp311-cp311-win_amd64.whl (1.6 MB)\n",
      "   ---------------------------------------- 0.0/1.6 MB ? eta -:--:--\n",
      "   --------- ------------------------------ 0.4/1.6 MB 11.5 MB/s eta 0:00:01\n",
      "   ------------------ --------------------- 0.8/1.6 MB 9.7 MB/s eta 0:00:01\n",
      "   ---------------------------- ----------- 1.2/1.6 MB 10.5 MB/s eta 0:00:01\n",
      "   ------------------------------------- -- 1.5/1.6 MB 8.9 MB/s eta 0:00:01\n",
      "   ---------------------------------------- 1.6/1.6 MB 8.0 MB/s eta 0:00:00\n",
      "Downloading cattrs-24.1.3-py3-none-any.whl (66 kB)\n",
      "   ---------------------------------------- 0.0/66.5 kB ? eta -:--:--\n",
      "   ---------------------------------------- 66.5/66.5 kB 3.5 MB/s eta 0:00:00\n",
      "Downloading url_normalize-2.0.1-py3-none-any.whl (11 kB)\n",
      "Installing collected packages: websockets, url-normalize, rapidfuzz, cattrs, requests-cache, timple, fastf1\n",
      "Successfully installed cattrs-24.1.3 fastf1-3.5.3 rapidfuzz-3.12.2 requests-cache-1.2.1 timple-0.1.8 url-normalize-2.0.1 websockets-13.1\n"
     ]
    }
   ],
   "source": [
    "!pip install fastf1"
   ]
  },
  {
   "cell_type": "code",
   "execution_count": 1,
   "id": "9c111aa7-f2bd-4722-adf1-a75108a24a06",
   "metadata": {},
   "outputs": [
    {
     "name": "stdout",
     "output_type": "stream",
     "text": [
      "Collecting psycopg2\n",
      "  Downloading psycopg2-2.9.10-cp311-cp311-win_amd64.whl.metadata (5.0 kB)\n",
      "Requirement already satisfied: pandas in c:\\users\\hp\\anaconda3\\lib\\site-packages (2.1.4)\n",
      "Requirement already satisfied: numpy in c:\\users\\hp\\anaconda3\\lib\\site-packages (1.26.4)\n",
      "Requirement already satisfied: sqlalchemy in c:\\users\\hp\\anaconda3\\lib\\site-packages (2.0.25)\n",
      "Requirement already satisfied: python-dateutil>=2.8.2 in c:\\users\\hp\\anaconda3\\lib\\site-packages (from pandas) (2.8.2)\n",
      "Requirement already satisfied: pytz>=2020.1 in c:\\users\\hp\\anaconda3\\lib\\site-packages (from pandas) (2023.3.post1)\n",
      "Requirement already satisfied: tzdata>=2022.1 in c:\\users\\hp\\anaconda3\\lib\\site-packages (from pandas) (2023.3)\n",
      "Requirement already satisfied: typing-extensions>=4.6.0 in c:\\users\\hp\\anaconda3\\lib\\site-packages (from sqlalchemy) (4.9.0)\n",
      "Requirement already satisfied: greenlet!=0.4.17 in c:\\users\\hp\\anaconda3\\lib\\site-packages (from sqlalchemy) (3.0.1)\n",
      "Requirement already satisfied: six>=1.5 in c:\\users\\hp\\anaconda3\\lib\\site-packages (from python-dateutil>=2.8.2->pandas) (1.16.0)\n",
      "Downloading psycopg2-2.9.10-cp311-cp311-win_amd64.whl (1.2 MB)\n",
      "   ---------------------------------------- 0.0/1.2 MB ? eta -:--:--\n",
      "   ---------------------------------------- 0.0/1.2 MB ? eta -:--:--\n",
      "    --------------------------------------- 0.0/1.2 MB ? eta -:--:--\n",
      "   -- ------------------------------------- 0.1/1.2 MB 825.8 kB/s eta 0:00:02\n",
      "   ---- ----------------------------------- 0.1/1.2 MB 1.0 MB/s eta 0:00:02\n",
      "   ----- ---------------------------------- 0.2/1.2 MB 1.2 MB/s eta 0:00:01\n",
      "   ------- -------------------------------- 0.2/1.2 MB 1.1 MB/s eta 0:00:01\n",
      "   --------- ------------------------------ 0.3/1.2 MB 1.1 MB/s eta 0:00:01\n",
      "   ------------ --------------------------- 0.4/1.2 MB 1.2 MB/s eta 0:00:01\n",
      "   -------------- ------------------------- 0.4/1.2 MB 1.2 MB/s eta 0:00:01\n",
      "   -------------- ------------------------- 0.4/1.2 MB 1.2 MB/s eta 0:00:01\n",
      "   ------------------ --------------------- 0.5/1.2 MB 1.2 MB/s eta 0:00:01\n",
      "   -------------------- ------------------- 0.6/1.2 MB 1.2 MB/s eta 0:00:01\n",
      "   ---------------------- ----------------- 0.7/1.2 MB 1.2 MB/s eta 0:00:01\n",
      "   ----------------------- ---------------- 0.7/1.2 MB 1.2 MB/s eta 0:00:01\n",
      "   ------------------------- -------------- 0.7/1.2 MB 1.2 MB/s eta 0:00:01\n",
      "   --------------------------- ------------ 0.8/1.2 MB 1.1 MB/s eta 0:00:01\n",
      "   ---------------------------- ----------- 0.8/1.2 MB 1.1 MB/s eta 0:00:01\n",
      "   ------------------------------ --------- 0.9/1.2 MB 1.1 MB/s eta 0:00:01\n",
      "   -------------------------------- ------- 0.9/1.2 MB 1.1 MB/s eta 0:00:01\n",
      "   ---------------------------------- ----- 1.0/1.2 MB 1.1 MB/s eta 0:00:01\n",
      "   ----------------------------------- ---- 1.0/1.2 MB 1.1 MB/s eta 0:00:01\n",
      "   -------------------------------------- - 1.1/1.2 MB 1.1 MB/s eta 0:00:01\n",
      "   ---------------------------------------- 1.2/1.2 MB 1.1 MB/s eta 0:00:00\n",
      "Installing collected packages: psycopg2\n",
      "Successfully installed psycopg2-2.9.10\n"
     ]
    }
   ],
   "source": [
    "!pip install psycopg2 pandas numpy sqlalchemy"
   ]
  },
  {
   "cell_type": "code",
   "execution_count": null,
   "id": "832cd719-91cd-4fbc-98c5-e21a18ee098b",
   "metadata": {},
   "outputs": [],
   "source": []
  }
 ],
 "metadata": {
  "kernelspec": {
   "display_name": "Python 3 (ipykernel)",
   "language": "python",
   "name": "python3"
  },
  "language_info": {
   "codemirror_mode": {
    "name": "ipython",
    "version": 3
   },
   "file_extension": ".py",
   "mimetype": "text/x-python",
   "name": "python",
   "nbconvert_exporter": "python",
   "pygments_lexer": "ipython3",
   "version": "3.11.7"
  }
 },
 "nbformat": 4,
 "nbformat_minor": 5
}
