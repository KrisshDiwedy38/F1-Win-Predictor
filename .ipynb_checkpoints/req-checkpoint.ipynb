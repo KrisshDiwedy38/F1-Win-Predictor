{
 "cells": [
  {
   "cell_type": "code",
   "execution_count": null,
   "id": "c1a5f568-60bb-47a1-83f6-8e6159b6caf3",
   "metadata": {},
   "outputs": [],
   "source": [
    "!pip install fastf1"
   ]
  },
  {
   "cell_type": "code",
   "execution_count": null,
   "id": "9c111aa7-f2bd-4722-adf1-a75108a24a06",
   "metadata": {},
   "outputs": [],
   "source": [
    "!pip install psycopg2 pandas numpy sqlalchemy"
   ]
  },
  {
   "cell_type": "code",
   "execution_count": null,
   "id": "832cd719-91cd-4fbc-98c5-e21a18ee098b",
   "metadata": {},
   "outputs": [],
   "source": []
  }
 ],
 "metadata": {
  "kernelspec": {
   "display_name": "Python 3 (ipykernel)",
   "language": "python",
   "name": "python3"
  },
  "language_info": {
   "codemirror_mode": {
    "name": "ipython",
    "version": 3
   },
   "file_extension": ".py",
   "mimetype": "text/x-python",
   "name": "python",
   "nbconvert_exporter": "python",
   "pygments_lexer": "ipython3",
   "version": "3.11.7"
  }
 },
 "nbformat": 4,
 "nbformat_minor": 5
}
